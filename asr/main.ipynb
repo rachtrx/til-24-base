{
 "cells": [
  {
   "cell_type": "markdown",
   "id": "42bd923e-4a53-4df4-a12f-8f42f9b5dd9f",
   "metadata": {},
   "source": [
    "# Task: `Automatic Speech Recognition`\n",
    "\n",
    "Given an audio file of a turret command instruction, return a transcription of the instruction.\n",
    "\n",
    "Note that noise simulating the corruption of radio transmissions will be present in the audio datasets provided to **both Novice and Advanced teams.**\n",
    "\n",
    "- Audio files are provided in .WAV format with a sample rate of 16 kHz. Images are provided as 1520x870 JPG files.\n",
    "- In the **audio datasets** provided to both the Novice and Advanced Guardians, noise will be present. Guardians who wish to fine-tune their models on additional data are free to use the (clean, unaugmented) National Speech Corpus data present in the `til-ai-24-data` bucket on Google Cloud Storage."
   ]
  },
  {
   "cell_type": "markdown",
   "id": "30f50e01-5d4a-4706-be0e-a5b19b676b15",
   "metadata": {},
   "source": [
    "_Insert Code Here_"
   ]
  },
  {
   "cell_type": "code",
   "execution_count": null,
   "id": "c1cd8288-74af-4ad7-bea5-7ceb132061ce",
   "metadata": {},
   "outputs": [],
   "source": [
    "!pip install -q audiomentations # Audio Augmentation\n",
    "import audiomentations"
   ]
  }
 ],
 "metadata": {
  "environment": {
   "kernel": "conda-env-pytorch-pytorch",
   "name": "workbench-notebooks.m120",
   "type": "gcloud",
   "uri": "us-docker.pkg.dev/deeplearning-platform-release/gcr.io/workbench-notebooks:m120"
  },
  "kernelspec": {
   "display_name": "PyTorch 1-13",
   "language": "python",
   "name": "conda-env-pytorch-pytorch"
  },
  "language_info": {
   "codemirror_mode": {
    "name": "ipython",
    "version": 3
   },
   "file_extension": ".py",
   "mimetype": "text/x-python",
   "name": "python",
   "nbconvert_exporter": "python",
   "pygments_lexer": "ipython3",
   "version": "3.10.14"
  }
 },
 "nbformat": 4,
 "nbformat_minor": 5
}
