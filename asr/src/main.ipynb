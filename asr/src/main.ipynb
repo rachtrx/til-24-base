{
 "cells": [
  {
   "cell_type": "markdown",
   "id": "42bd923e-4a53-4df4-a12f-8f42f9b5dd9f",
   "metadata": {},
   "source": []
  },
  {
   "cell_type": "markdown",
   "id": "30f50e01-5d4a-4706-be0e-a5b19b676b15",
   "metadata": {},
   "source": [
    "_Insert Code Here_"
   ]
  },
  {
   "cell_type": "code",
   "execution_count": null,
   "id": "c1cd8288-74af-4ad7-bea5-7ceb132061ce",
   "metadata": {},
   "outputs": [],
   "source": [
    "!pip install -q audiomentations # Audio Augmentation\n",
    "import audiomentations"
   ]
  }
 ],
 "metadata": {
  "environment": {
   "kernel": "conda-env-pytorch-pytorch",
   "name": "workbench-notebooks.m120",
   "type": "gcloud",
   "uri": "us-docker.pkg.dev/deeplearning-platform-release/gcr.io/workbench-notebooks:m120"
  },
  "kernelspec": {
   "display_name": "PyTorch 1-13",
   "language": "python",
   "name": "conda-env-pytorch-pytorch"
  },
  "language_info": {
   "codemirror_mode": {
    "name": "ipython",
    "version": 3
   },
   "file_extension": ".py",
   "mimetype": "text/x-python",
   "name": "python",
   "nbconvert_exporter": "python",
   "pygments_lexer": "ipython3",
   "version": "3.10.14"
  }
 },
 "nbformat": 4,
 "nbformat_minor": 5
}
