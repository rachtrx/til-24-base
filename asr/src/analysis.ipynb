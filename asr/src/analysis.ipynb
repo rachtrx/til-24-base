{
 "cells": [
  {
   "cell_type": "code",
   "execution_count": null,
   "id": "6ff64f78-8f43-4aee-9e01-c0d0c88595fd",
   "metadata": {},
   "outputs": [],
   "source": [
    "import jsonlines\n",
    "import torchaudio\n",
    "import torch\n",
    "import os\n",
    "\n",
    "cur_dir = os.getcwd()\n",
    "src_dir = os.path.dirname(cur_dir) # 2 directories up\n",
    "til_dir = os.path.dirname(os.path.dirname(src_dir))\n",
    "home_dir = os.path.dirname(til_dir)\n",
    "test_dir = os.path.join(home_dir, 'novice')\n",
    "audio_dir = os.path.join(test_dir, 'audio')\n",
    "data_dir = os.path.join(cur_dir, 'data')"
   ]
  },
  {
   "cell_type": "code",
   "execution_count": null,
   "id": "66ddac5e-cfbd-4a70-bb44-fc7c4f6aa7a7",
   "metadata": {},
   "outputs": [],
   "source": [
    "data = {'key': [], 'audio': [], 'transcript': []}\n",
    "data_path = os.path.join(test_dir, \"asr.jsonl\")\n",
    "with jsonlines.open(data_path) as reader:\n",
    "    for obj in reader:\n",
    "        for key, value in obj.items():\n",
    "            data[key].append(value)\n",
    "\n",
    "def get_audio_length(audio_path, audio_dir, processor):\n",
    "    try:\n",
    "        waveform, sample_rate = torchaudio.load(os.path.join(audio_dir, audio_path))\n",
    "        waveform = waveform.numpy().flatten()\n",
    "\n",
    "        # Resample if needed\n",
    "        if sample_rate != 16000:\n",
    "            resampler = torchaudio.transforms.Resample(orig_freq=sample_rate, new_freq=16000)\n",
    "            waveform = resampler(torch.tensor(waveform)).numpy().flatten()\n",
    "\n",
    "        # Extract audio features\n",
    "        audio_features = processor.feature_extractor(waveform, sampling_rate=16000).input_features[0]\n",
    "        return int(len(audio_features))  # Ensure the length is a Python int\n",
    "    except Exception as e:\n",
    "        print(f\"Error processing audio: {e}\")\n",
    "        return None\n",
    "\n",
    "audio_lengths = [(audio, get_audio_length(audio, audio_dir, processor)) for audio in data['audio']]\n",
    "audio_lengths = [length for length in audio_lengths if length[1] is not None]  # Remove None values\n",
    "\n",
    "audio_lengths = np.array(audio_lengths)\n",
    "print(f\"Max length: {np.max(audio_lengths)}\")\n",
    "print(f\"Mean length: {np.mean(audio_lengths)}\")"
   ]
  },
  {
   "cell_type": "code",
   "execution_count": null,
   "id": "46712aaa-f890-4b50-b355-b10ad6fe68f8",
   "metadata": {},
   "outputs": [],
   "source": [
    "def get_transcription_length(transcript, processor, max_length=None):\n",
    "    try:\n",
    "        labels = processor.tokenizer(transcript, max_length=max_length, truncation=True).input_ids\n",
    "        return len(labels)\n",
    "    except Exception as e:\n",
    "        print(f\"Error processing transcription: {e}\")\n",
    "        return None\n",
    "    \n",
    "transcription_lengths = [get_transcription_length(transcript, processor) for transcript in data['transcript']]\n",
    "transcription_lengths = [length for length in transcription_lengths if length is not None]  # Remove None values\n",
    "\n",
    "# Analyze the lengths\n",
    "plt.hist(transcription_lengths, bins=20)\n",
    "plt.xlabel('Length of tokenized transcription')\n",
    "plt.ylabel('Frequency')\n",
    "plt.title('Distribution of Tokenized Transcription Lengths')\n",
    "plt.show()\n",
    "\n",
    "max_length = max(transcription_lengths)\n",
    "print(f\"Maximum transcription length: {max_length}\")"
   ]
  }
 ],
 "metadata": {
  "environment": {
   "kernel": "conda-base-py",
   "name": "workbench-notebooks.m120",
   "type": "gcloud",
   "uri": "us-docker.pkg.dev/deeplearning-platform-release/gcr.io/workbench-notebooks:m120"
  },
  "kernelspec": {
   "display_name": "Python 3 (ipykernel)",
   "language": "python",
   "name": "conda-base-py"
  },
  "language_info": {
   "codemirror_mode": {
    "name": "ipython",
    "version": 3
   },
   "file_extension": ".py",
   "mimetype": "text/x-python",
   "name": "python",
   "nbconvert_exporter": "python",
   "pygments_lexer": "ipython3",
   "version": "3.10.14"
  }
 },
 "nbformat": 4,
 "nbformat_minor": 5
}
