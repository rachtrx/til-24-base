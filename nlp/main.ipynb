{
 "cells": [
  {
   "cell_type": "markdown",
   "id": "662e471b-1fc2-4094-88f6-6860724ff715",
   "metadata": {},
   "source": [
    "# Task: `Natural Language Processing`\n",
    "\n",
    "Given an audio transcription of a turret command instruction, return a JSON object corresponding to the specified target’s description, heading, and the tool to be deployed against it.\n",
    "\n",
    "**For Advanced teams**, the transcript will be a turret instruction in natural language.\n",
    "\n",
    "**For Novice teams**, the transcript will follow a relatively structured format with the turret operator explicitly reading out the turret, heading, and tool, though the order may vary."
   ]
  },
  {
   "cell_type": "markdown",
   "id": "5f27cdc2-3bc7-4b37-acd8-0c64b18d9b0e",
   "metadata": {},
   "source": [
    "_Insert Code Here_"
   ]
  }
 ],
 "metadata": {
  "environment": {
   "kernel": "conda-env-pytorch-pytorch",
   "name": "workbench-notebooks.m120",
   "type": "gcloud",
   "uri": "us-docker.pkg.dev/deeplearning-platform-release/gcr.io/workbench-notebooks:m120"
  },
  "kernelspec": {
   "display_name": "PyTorch 1-13",
   "language": "python",
   "name": "conda-env-pytorch-pytorch"
  },
  "language_info": {
   "codemirror_mode": {
    "name": "ipython",
    "version": 3
   },
   "file_extension": ".py",
   "mimetype": "text/x-python",
   "name": "python",
   "nbconvert_exporter": "python",
   "pygments_lexer": "ipython3",
   "version": "3.10.14"
  }
 },
 "nbformat": 4,
 "nbformat_minor": 5
}
